{
 "cells": [
  {
   "cell_type": "code",
   "execution_count": 1,
   "metadata": {
    "collapsed": false
   },
   "outputs": [
    {
     "name": "stderr",
     "output_type": "stream",
     "text": [
      "Using gpu device 0: GRID K520 (CNMeM is disabled, cuDNN Version is too old. Update to v5, was 3007.)\n"
     ]
    }
   ],
   "source": [
    "from project_utils import load_data"
   ]
  },
  {
   "cell_type": "code",
   "execution_count": 2,
   "metadata": {
    "collapsed": true
   },
   "outputs": [],
   "source": [
    "train_set, valid_set, test_set = load_data()"
   ]
  },
  {
   "cell_type": "code",
   "execution_count": null,
   "metadata": {
    "collapsed": true
   },
   "outputs": [],
   "source": [
    "train_set_x, train_set_y = train_set\n",
    "print(train_set_x.shape)\n",
    "\n"
   ]
  },
  {
   "cell_type": "code",
   "execution_count": 1,
   "metadata": {
    "collapsed": false
   },
   "outputs": [
    {
     "name": "stdout",
     "output_type": "stream",
     "text": [
      "... building the model\n",
      "... training\n",
      "epoch 1, minibatch 2500/2500, validation error 10.740000 %\n",
      "     epoch 1, minibatch 2500/2500, test error of best model 11.470000 %\n",
      "epoch 2, minibatch 2500/2500, validation error 7.590000 %\n",
      "     epoch 2, minibatch 2500/2500, test error of best model 8.120000 %\n",
      "epoch 3, minibatch 2500/2500, validation error 6.570000 %\n",
      "     epoch 3, minibatch 2500/2500, test error of best model 7.350000 %\n",
      "epoch 4, minibatch 2500/2500, validation error 5.710000 %\n",
      "     epoch 4, minibatch 2500/2500, test error of best model 6.610000 %\n",
      "epoch 5, minibatch 2500/2500, validation error 4.970000 %\n",
      "     epoch 5, minibatch 2500/2500, test error of best model 5.670000 %\n",
      "epoch 6, minibatch 2500/2500, validation error 4.540000 %\n",
      "     epoch 6, minibatch 2500/2500, test error of best model 5.080000 %\n",
      "epoch 7, minibatch 2500/2500, validation error 4.430000 %\n",
      "     epoch 7, minibatch 2500/2500, test error of best model 4.830000 %\n",
      "epoch 8, minibatch 2500/2500, validation error 4.210000 %\n",
      "     epoch 8, minibatch 2500/2500, test error of best model 4.940000 %\n",
      "epoch 9, minibatch 2500/2500, validation error 4.030000 %\n",
      "     epoch 9, minibatch 2500/2500, test error of best model 4.660000 %\n",
      "epoch 10, minibatch 2500/2500, validation error 3.900000 %\n",
      "     epoch 10, minibatch 2500/2500, test error of best model 4.380000 %\n",
      "epoch 11, minibatch 2500/2500, validation error 3.640000 %\n",
      "     epoch 11, minibatch 2500/2500, test error of best model 4.190000 %\n",
      "epoch 12, minibatch 2500/2500, validation error 3.770000 %\n",
      "epoch 13, minibatch 2500/2500, validation error 3.850000 %\n",
      "epoch 14, minibatch 2500/2500, validation error 3.630000 %\n",
      "     epoch 14, minibatch 2500/2500, test error of best model 4.110000 %\n",
      "epoch 15, minibatch 2500/2500, validation error 4.040000 %\n",
      "epoch 16, minibatch 2500/2500, validation error 3.290000 %\n",
      "     epoch 16, minibatch 2500/2500, test error of best model 3.720000 %\n",
      "epoch 17, minibatch 2500/2500, validation error 3.350000 %\n",
      "epoch 18, minibatch 2500/2500, validation error 3.180000 %\n",
      "     epoch 18, minibatch 2500/2500, test error of best model 3.650000 %\n",
      "epoch 19, minibatch 2500/2500, validation error 3.410000 %\n",
      "epoch 20, minibatch 2500/2500, validation error 2.920000 %\n",
      "     epoch 20, minibatch 2500/2500, test error of best model 3.490000 %\n",
      "epoch 21, minibatch 2500/2500, validation error 2.850000 %\n",
      "     epoch 21, minibatch 2500/2500, test error of best model 3.250000 %\n",
      "epoch 22, minibatch 2500/2500, validation error 3.350000 %\n",
      "epoch 23, minibatch 2500/2500, validation error 2.690000 %\n",
      "     epoch 23, minibatch 2500/2500, test error of best model 3.220000 %\n",
      "epoch 24, minibatch 2500/2500, validation error 2.940000 %\n",
      "epoch 25, minibatch 2500/2500, validation error 3.050000 %\n",
      "epoch 26, minibatch 2500/2500, validation error 2.830000 %\n",
      "epoch 27, minibatch 2500/2500, validation error 2.550000 %\n",
      "     epoch 27, minibatch 2500/2500, test error of best model 2.980000 %\n",
      "epoch 28, minibatch 2500/2500, validation error 3.000000 %\n",
      "epoch 29, minibatch 2500/2500, validation error 2.640000 %\n",
      "epoch 30, minibatch 2500/2500, validation error 2.550000 %\n",
      "epoch 31, minibatch 2500/2500, validation error 2.810000 %\n",
      "epoch 32, minibatch 2500/2500, validation error 2.720000 %\n",
      "epoch 33, minibatch 2500/2500, validation error 2.510000 %\n",
      "     epoch 33, minibatch 2500/2500, test error of best model 2.890000 %\n",
      "epoch 34, minibatch 2500/2500, validation error 2.830000 %\n",
      "epoch 35, minibatch 2500/2500, validation error 2.570000 %\n",
      "epoch 36, minibatch 2500/2500, validation error 2.480000 %\n",
      "     epoch 36, minibatch 2500/2500, test error of best model 3.020000 %\n",
      "epoch 37, minibatch 2500/2500, validation error 2.560000 %\n",
      "epoch 38, minibatch 2500/2500, validation error 2.480000 %\n",
      "epoch 39, minibatch 2500/2500, validation error 3.060000 %\n",
      "epoch 40, minibatch 2500/2500, validation error 2.610000 %\n",
      "epoch 41, minibatch 2500/2500, validation error 2.540000 %\n",
      "epoch 42, minibatch 2500/2500, validation error 2.570000 %\n",
      "epoch 43, minibatch 2500/2500, validation error 2.420000 %\n",
      "     epoch 43, minibatch 2500/2500, test error of best model 2.730000 %\n",
      "epoch 44, minibatch 2500/2500, validation error 2.530000 %\n",
      "epoch 45, minibatch 2500/2500, validation error 2.380000 %\n",
      "     epoch 45, minibatch 2500/2500, test error of best model 2.550000 %\n",
      "epoch 46, minibatch 2500/2500, validation error 2.370000 %\n",
      "     epoch 46, minibatch 2500/2500, test error of best model 2.610000 %\n",
      "epoch 47, minibatch 2500/2500, validation error 2.280000 %\n",
      "     epoch 47, minibatch 2500/2500, test error of best model 2.550000 %\n",
      "epoch 48, minibatch 2500/2500, validation error 2.220000 %\n",
      "     epoch 48, minibatch 2500/2500, test error of best model 2.590000 %\n",
      "epoch 49, minibatch 2500/2500, validation error 2.200000 %\n",
      "     epoch 49, minibatch 2500/2500, test error of best model 2.620000 %\n",
      "epoch 50, minibatch 2500/2500, validation error 2.220000 %\n",
      "epoch 51, minibatch 2500/2500, validation error 2.210000 %\n",
      "epoch 52, minibatch 2500/2500, validation error 2.210000 %\n",
      "epoch 53, minibatch 2500/2500, validation error 2.140000 %\n",
      "     epoch 53, minibatch 2500/2500, test error of best model 2.560000 %\n",
      "epoch 54, minibatch 2500/2500, validation error 2.140000 %\n",
      "     epoch 54, minibatch 2500/2500, test error of best model 2.560000 %\n",
      "epoch 55, minibatch 2500/2500, validation error 2.150000 %\n",
      "epoch 56, minibatch 2500/2500, validation error 2.150000 %\n",
      "epoch 57, minibatch 2500/2500, validation error 2.170000 %\n",
      "epoch 58, minibatch 2500/2500, validation error 2.170000 %\n",
      "epoch 59, minibatch 2500/2500, validation error 2.200000 %\n",
      "epoch 60, minibatch 2500/2500, validation error 2.190000 %\n",
      "epoch 61, minibatch 2500/2500, validation error 2.210000 %\n",
      "epoch 62, minibatch 2500/2500, validation error 2.210000 %\n",
      "epoch 63, minibatch 2500/2500, validation error 2.220000 %\n",
      "epoch 64, minibatch 2500/2500, validation error 2.220000 %\n",
      "epoch 65, minibatch 2500/2500, validation error 2.240000 %\n",
      "epoch 66, minibatch 2500/2500, validation error 2.250000 %\n",
      "epoch 67, minibatch 2500/2500, validation error 2.280000 %\n",
      "epoch 68, minibatch 2500/2500, validation error 2.290000 %\n",
      "epoch 69, minibatch 2500/2500, validation error 2.300000 %\n",
      "epoch 70, minibatch 2500/2500, validation error 2.310000 %\n",
      "epoch 71, minibatch 2500/2500, validation error 2.300000 %\n",
      "epoch 72, minibatch 2500/2500, validation error 2.300000 %\n",
      "epoch 73, minibatch 2500/2500, validation error 2.300000 %\n",
      "epoch 74, minibatch 2500/2500, validation error 2.290000 %\n",
      "epoch 75, minibatch 2500/2500, validation error 2.290000 %\n",
      "epoch 76, minibatch 2500/2500, validation error 2.280000 %\n",
      "epoch 77, minibatch 2500/2500, validation error 2.280000 %\n",
      "epoch 78, minibatch 2500/2500, validation error 2.270000 %\n",
      "epoch 79, minibatch 2500/2500, validation error 2.250000 %\n",
      "epoch 80, minibatch 2500/2500, validation error 2.280000 %\n",
      "epoch 81, minibatch 2500/2500, validation error 2.290000 %\n",
      "epoch 82, minibatch 2500/2500, validation error 2.290000 %\n",
      "epoch 83, minibatch 2500/2500, validation error 2.290000 %\n",
      "epoch 84, minibatch 2500/2500, validation error 2.290000 %\n",
      "epoch 85, minibatch 2500/2500, validation error 2.290000 %\n",
      "epoch 86, minibatch 2500/2500, validation error 2.310000 %\n",
      "epoch 87, minibatch 2500/2500, validation error 2.310000 %\n",
      "epoch 88, minibatch 2500/2500, validation error 2.310000 %\n",
      "epoch 89, minibatch 2500/2500, validation error 2.310000 %\n",
      "epoch 90, minibatch 2500/2500, validation error 2.310000 %\n",
      "epoch 91, minibatch 2500/2500, validation error 2.310000 %\n",
      "epoch 92, minibatch 2500/2500, validation error 2.290000 %\n",
      "epoch 93, minibatch 2500/2500, validation error 2.290000 %\n",
      "epoch 94, minibatch 2500/2500, validation error 2.300000 %\n",
      "epoch 95, minibatch 2500/2500, validation error 2.300000 %\n",
      "epoch 96, minibatch 2500/2500, validation error 2.310000 %\n",
      "epoch 97, minibatch 2500/2500, validation error 2.320000 %\n",
      "epoch 98, minibatch 2500/2500, validation error 2.330000 %\n",
      "epoch 99, minibatch 2500/2500, validation error 2.330000 %\n",
      "epoch 100, minibatch 2500/2500, validation error 2.340000 %\n",
      "epoch 101, minibatch 2500/2500, validation error 2.330000 %\n",
      "epoch 102, minibatch 2500/2500, validation error 2.340000 %\n",
      "epoch 103, minibatch 2500/2500, validation error 2.340000 %\n",
      "epoch 104, minibatch 2500/2500, validation error 2.350000 %\n",
      "epoch 105, minibatch 2500/2500, validation error 2.360000 %\n",
      "epoch 106, minibatch 2500/2500, validation error 2.360000 %\n",
      "epoch 107, minibatch 2500/2500, validation error 2.360000 %\n",
      "epoch 108, minibatch 2500/2500, validation error 2.370000 %\n",
      "epoch 109, minibatch 2500/2500, validation error 2.380000 %\n",
      "epoch 110, minibatch 2500/2500, validation error 2.380000 %\n"
     ]
    },
    {
     "name": "stderr",
     "output_type": "stream",
     "text": [
      "Using gpu device 0: GRID K520 (CNMeM is disabled, cuDNN Version is too old. Update to v5, was 3007.)\n"
     ]
    },
    {
     "ename": "KeyboardInterrupt",
     "evalue": "",
     "output_type": "error",
     "traceback": [
      "\u001b[1;31m---------------------------------------------------------------------------\u001b[0m",
      "\u001b[1;31mKeyboardInterrupt\u001b[0m                         Traceback (most recent call last)",
      "\u001b[1;32m<ipython-input-1-abdabcb87937>\u001b[0m in \u001b[0;36m<module>\u001b[1;34m()\u001b[0m\n\u001b[0;32m      5\u001b[0m \u001b[1;31m#            batch_size=20, n_hidden=500, verbose=False)\u001b[0m\u001b[1;33m\u001b[0m\u001b[1;33m\u001b[0m\u001b[0m\n\u001b[0;32m      6\u001b[0m \u001b[1;33m\u001b[0m\u001b[0m\n\u001b[1;32m----> 7\u001b[1;33m \u001b[0mval_matrix\u001b[0m\u001b[1;33m,\u001b[0m \u001b[0mtest_matrix\u001b[0m \u001b[1;33m=\u001b[0m \u001b[0mtest_network\u001b[0m\u001b[1;33m(\u001b[0m\u001b[0mn_layers\u001b[0m \u001b[1;33m=\u001b[0m \u001b[1;36m10\u001b[0m\u001b[1;33m,\u001b[0m \u001b[0mn_epochs\u001b[0m \u001b[1;33m=\u001b[0m \u001b[1;36m150\u001b[0m\u001b[1;33m,\u001b[0m \u001b[0mn_hidden\u001b[0m\u001b[1;33m=\u001b[0m\u001b[1;36m71\u001b[0m\u001b[1;33m,\u001b[0m \u001b[0mverbose\u001b[0m\u001b[1;33m=\u001b[0m\u001b[0mTrue\u001b[0m\u001b[1;33m)\u001b[0m\u001b[1;33m\u001b[0m\u001b[0m\n\u001b[0m",
      "\u001b[1;32m/home/ubuntu/project/e4040_project_abcd/src/test_layer.pyc\u001b[0m in \u001b[0;36mtest_network\u001b[1;34m(n_layers, activation, learning_rate, L1_reg, L2_reg, n_epochs, batch_size, n_hidden, verbose)\u001b[0m\n\u001b[0;32m    298\u001b[0m         \u001b[1;32mfor\u001b[0m \u001b[0mminibatch_index\u001b[0m \u001b[1;32min\u001b[0m \u001b[0mrange\u001b[0m\u001b[1;33m(\u001b[0m\u001b[0mn_train_batches\u001b[0m\u001b[1;33m)\u001b[0m\u001b[1;33m:\u001b[0m\u001b[1;33m\u001b[0m\u001b[0m\n\u001b[0;32m    299\u001b[0m \u001b[1;33m\u001b[0m\u001b[0m\n\u001b[1;32m--> 300\u001b[1;33m             \u001b[0mminibatch_avg_cost\u001b[0m \u001b[1;33m=\u001b[0m \u001b[0mtrain_model\u001b[0m\u001b[1;33m(\u001b[0m\u001b[0mminibatch_index\u001b[0m\u001b[1;33m)\u001b[0m\u001b[1;33m\u001b[0m\u001b[0m\n\u001b[0m\u001b[0;32m    301\u001b[0m             \u001b[1;31m# iteration number\u001b[0m\u001b[1;33m\u001b[0m\u001b[1;33m\u001b[0m\u001b[0m\n\u001b[0;32m    302\u001b[0m             \u001b[0miter\u001b[0m \u001b[1;33m=\u001b[0m \u001b[1;33m(\u001b[0m\u001b[0mepoch\u001b[0m \u001b[1;33m-\u001b[0m \u001b[1;36m1\u001b[0m\u001b[1;33m)\u001b[0m \u001b[1;33m*\u001b[0m \u001b[0mn_train_batches\u001b[0m \u001b[1;33m+\u001b[0m \u001b[0mminibatch_index\u001b[0m\u001b[1;33m\u001b[0m\u001b[0m\n",
      "\u001b[1;32m/home/ubuntu/miniconda2/envs/theano/lib/python2.7/site-packages/theano/compile/function_module.pyc\u001b[0m in \u001b[0;36m__call__\u001b[1;34m(self, *args, **kwargs)\u001b[0m\n\u001b[0;32m    864\u001b[0m         \u001b[1;32mtry\u001b[0m\u001b[1;33m:\u001b[0m\u001b[1;33m\u001b[0m\u001b[0m\n\u001b[0;32m    865\u001b[0m             \u001b[0moutputs\u001b[0m \u001b[1;33m=\u001b[0m\u001b[0;31m\\\u001b[0m\u001b[1;33m\u001b[0m\u001b[0m\n\u001b[1;32m--> 866\u001b[1;33m                 \u001b[0mself\u001b[0m\u001b[1;33m.\u001b[0m\u001b[0mfn\u001b[0m\u001b[1;33m(\u001b[0m\u001b[1;33m)\u001b[0m \u001b[1;32mif\u001b[0m \u001b[0moutput_subset\u001b[0m \u001b[1;32mis\u001b[0m \u001b[0mNone\u001b[0m \u001b[1;32melse\u001b[0m\u001b[0;31m\\\u001b[0m\u001b[1;33m\u001b[0m\u001b[0m\n\u001b[0m\u001b[0;32m    867\u001b[0m                 \u001b[0mself\u001b[0m\u001b[1;33m.\u001b[0m\u001b[0mfn\u001b[0m\u001b[1;33m(\u001b[0m\u001b[0moutput_subset\u001b[0m\u001b[1;33m=\u001b[0m\u001b[0moutput_subset\u001b[0m\u001b[1;33m)\u001b[0m\u001b[1;33m\u001b[0m\u001b[0m\n\u001b[0;32m    868\u001b[0m         \u001b[1;32mexcept\u001b[0m \u001b[0mException\u001b[0m\u001b[1;33m:\u001b[0m\u001b[1;33m\u001b[0m\u001b[0m\n",
      "\u001b[1;31mKeyboardInterrupt\u001b[0m: "
     ]
    }
   ],
   "source": [
    "from test_layer import test_network\n",
    "\n",
    "\n",
    "#test_network(n_layers, activation=T.Tanh, learning_rate=0.01, L1_reg=0.00, L2_reg=0.0001, n_epochs=1000,\n",
    "#            batch_size=20, n_hidden=500, verbose=False)\n",
    "\n",
    "val_matrix, test_matrix = test_network(n_layers = 10, n_epochs = 150, n_hidden=71, verbose=True)"
   ]
  },
  {
   "cell_type": "code",
   "execution_count": 3,
   "metadata": {
    "collapsed": false
   },
   "outputs": [
    {
     "name": "stdout",
     "output_type": "stream",
     "text": [
      "... building the model\n",
      "... training\n",
      "epoch 1, minibatch 2500/2500, validation error 89.360000 %\n",
      "     epoch 1, minibatch 2500/2500, test error of best model 88.650000 %\n",
      "epoch 2, minibatch 2500/2500, validation error 66.520000 %\n",
      "     epoch 2, minibatch 2500/2500, test error of best model 66.540000 %\n",
      "epoch 3, minibatch 2500/2500, validation error 10.170000 %\n",
      "     epoch 3, minibatch 2500/2500, test error of best model 10.910000 %\n",
      "epoch 4, minibatch 2500/2500, validation error 7.590000 %\n",
      "     epoch 4, minibatch 2500/2500, test error of best model 8.410000 %\n",
      "epoch 5, minibatch 2500/2500, validation error 6.440000 %\n",
      "     epoch 5, minibatch 2500/2500, test error of best model 7.010000 %\n",
      "epoch 6, minibatch 2500/2500, validation error 5.040000 %\n",
      "     epoch 6, minibatch 2500/2500, test error of best model 5.810000 %\n",
      "epoch 7, minibatch 2500/2500, validation error 4.740000 %\n",
      "     epoch 7, minibatch 2500/2500, test error of best model 5.430000 %\n",
      "epoch 8, minibatch 2500/2500, validation error 4.740000 %\n",
      "epoch 9, minibatch 2500/2500, validation error 4.800000 %\n",
      "epoch 10, minibatch 2500/2500, validation error 4.250000 %\n",
      "     epoch 10, minibatch 2500/2500, test error of best model 4.740000 %\n",
      "epoch 11, minibatch 2500/2500, validation error 3.730000 %\n",
      "     epoch 11, minibatch 2500/2500, test error of best model 4.370000 %\n",
      "epoch 12, minibatch 2500/2500, validation error 4.640000 %\n",
      "epoch 13, minibatch 2500/2500, validation error 4.070000 %\n",
      "epoch 14, minibatch 2500/2500, validation error 4.050000 %\n",
      "epoch 15, minibatch 2500/2500, validation error 4.050000 %\n",
      "epoch 16, minibatch 2500/2500, validation error 3.360000 %\n",
      "     epoch 16, minibatch 2500/2500, test error of best model 3.680000 %\n",
      "epoch 17, minibatch 2500/2500, validation error 3.680000 %\n",
      "epoch 18, minibatch 2500/2500, validation error 3.120000 %\n",
      "     epoch 18, minibatch 2500/2500, test error of best model 3.370000 %\n",
      "epoch 19, minibatch 2500/2500, validation error 3.370000 %\n",
      "epoch 20, minibatch 2500/2500, validation error 5.040000 %\n",
      "epoch 21, minibatch 2500/2500, validation error 2.990000 %\n",
      "     epoch 21, minibatch 2500/2500, test error of best model 3.370000 %\n",
      "epoch 22, minibatch 2500/2500, validation error 4.240000 %\n",
      "epoch 23, minibatch 2500/2500, validation error 4.070000 %\n",
      "epoch 24, minibatch 2500/2500, validation error 3.320000 %\n",
      "epoch 25, minibatch 2500/2500, validation error 2.910000 %\n",
      "     epoch 25, minibatch 2500/2500, test error of best model 3.170000 %\n",
      "epoch 26, minibatch 2500/2500, validation error 3.180000 %\n",
      "epoch 27, minibatch 2500/2500, validation error 3.010000 %\n",
      "epoch 28, minibatch 2500/2500, validation error 2.850000 %\n",
      "     epoch 28, minibatch 2500/2500, test error of best model 3.020000 %\n",
      "epoch 29, minibatch 2500/2500, validation error 2.910000 %\n",
      "epoch 30, minibatch 2500/2500, validation error 2.830000 %\n",
      "     epoch 30, minibatch 2500/2500, test error of best model 2.840000 %\n",
      "epoch 31, minibatch 2500/2500, validation error 2.880000 %\n",
      "epoch 32, minibatch 2500/2500, validation error 2.700000 %\n",
      "     epoch 32, minibatch 2500/2500, test error of best model 3.130000 %\n",
      "epoch 33, minibatch 2500/2500, validation error 2.760000 %\n",
      "epoch 34, minibatch 2500/2500, validation error 2.780000 %\n",
      "epoch 35, minibatch 2500/2500, validation error 2.950000 %\n",
      "epoch 36, minibatch 2500/2500, validation error 3.160000 %\n",
      "epoch 37, minibatch 2500/2500, validation error 2.930000 %\n",
      "epoch 38, minibatch 2500/2500, validation error 3.080000 %\n",
      "epoch 39, minibatch 2500/2500, validation error 2.730000 %\n",
      "epoch 40, minibatch 2500/2500, validation error 2.900000 %\n",
      "epoch 41, minibatch 2500/2500, validation error 2.820000 %\n",
      "epoch 42, minibatch 2500/2500, validation error 2.760000 %\n",
      "epoch 43, minibatch 2500/2500, validation error 2.840000 %\n",
      "epoch 44, minibatch 2500/2500, validation error 2.820000 %\n",
      "epoch 45, minibatch 2500/2500, validation error 2.820000 %\n",
      "epoch 46, minibatch 2500/2500, validation error 2.690000 %\n",
      "     epoch 46, minibatch 2500/2500, test error of best model 2.850000 %\n",
      "epoch 47, minibatch 2500/2500, validation error 2.800000 %\n",
      "epoch 48, minibatch 2500/2500, validation error 2.930000 %\n",
      "epoch 49, minibatch 2500/2500, validation error 2.820000 %\n",
      "epoch 50, minibatch 2500/2500, validation error 2.700000 %\n",
      "epoch 51, minibatch 2500/2500, validation error 2.660000 %\n",
      "     epoch 51, minibatch 2500/2500, test error of best model 2.840000 %\n",
      "epoch 52, minibatch 2500/2500, validation error 2.880000 %\n",
      "epoch 53, minibatch 2500/2500, validation error 2.830000 %\n",
      "epoch 54, minibatch 2500/2500, validation error 2.560000 %\n",
      "     epoch 54, minibatch 2500/2500, test error of best model 2.620000 %\n",
      "epoch 55, minibatch 2500/2500, validation error 2.650000 %\n",
      "epoch 56, minibatch 2500/2500, validation error 2.580000 %\n",
      "epoch 57, minibatch 2500/2500, validation error 2.600000 %\n",
      "epoch 58, minibatch 2500/2500, validation error 2.570000 %\n",
      "epoch 59, minibatch 2500/2500, validation error 2.640000 %\n",
      "epoch 60, minibatch 2500/2500, validation error 2.570000 %\n",
      "epoch 61, minibatch 2500/2500, validation error 2.510000 %\n",
      "     epoch 61, minibatch 2500/2500, test error of best model 2.600000 %\n",
      "epoch 62, minibatch 2500/2500, validation error 2.650000 %\n",
      "epoch 63, minibatch 2500/2500, validation error 2.590000 %\n",
      "epoch 64, minibatch 2500/2500, validation error 2.600000 %\n",
      "epoch 65, minibatch 2500/2500, validation error 2.520000 %\n",
      "epoch 66, minibatch 2500/2500, validation error 2.560000 %\n",
      "epoch 67, minibatch 2500/2500, validation error 2.580000 %\n",
      "epoch 68, minibatch 2500/2500, validation error 2.560000 %\n",
      "epoch 69, minibatch 2500/2500, validation error 2.610000 %\n",
      "epoch 70, minibatch 2500/2500, validation error 2.610000 %\n",
      "epoch 71, minibatch 2500/2500, validation error 2.590000 %\n",
      "epoch 72, minibatch 2500/2500, validation error 2.590000 %\n",
      "epoch 73, minibatch 2500/2500, validation error 2.620000 %\n",
      "epoch 74, minibatch 2500/2500, validation error 2.640000 %\n",
      "epoch 75, minibatch 2500/2500, validation error 2.630000 %\n",
      "epoch 76, minibatch 2500/2500, validation error 2.610000 %\n",
      "epoch 77, minibatch 2500/2500, validation error 2.620000 %\n",
      "epoch 78, minibatch 2500/2500, validation error 2.610000 %\n",
      "epoch 79, minibatch 2500/2500, validation error 2.630000 %\n",
      "epoch 80, minibatch 2500/2500, validation error 2.630000 %\n",
      "epoch 81, minibatch 2500/2500, validation error 2.640000 %\n",
      "epoch 82, minibatch 2500/2500, validation error 2.650000 %\n",
      "epoch 83, minibatch 2500/2500, validation error 2.640000 %\n",
      "epoch 84, minibatch 2500/2500, validation error 2.650000 %\n",
      "epoch 85, minibatch 2500/2500, validation error 2.650000 %\n",
      "epoch 86, minibatch 2500/2500, validation error 2.650000 %\n",
      "epoch 87, minibatch 2500/2500, validation error 2.650000 %\n",
      "epoch 88, minibatch 2500/2500, validation error 2.650000 %\n",
      "epoch 89, minibatch 2500/2500, validation error 2.640000 %\n",
      "epoch 90, minibatch 2500/2500, validation error 2.650000 %\n",
      "epoch 91, minibatch 2500/2500, validation error 2.630000 %\n",
      "epoch 92, minibatch 2500/2500, validation error 2.650000 %\n",
      "epoch 93, minibatch 2500/2500, validation error 2.650000 %\n",
      "epoch 94, minibatch 2500/2500, validation error 2.640000 %\n",
      "epoch 95, minibatch 2500/2500, validation error 2.640000 %\n",
      "epoch 96, minibatch 2500/2500, validation error 2.640000 %\n",
      "epoch 97, minibatch 2500/2500, validation error 2.650000 %\n",
      "epoch 98, minibatch 2500/2500, validation error 2.650000 %\n",
      "epoch 99, minibatch 2500/2500, validation error 2.640000 %\n",
      "epoch 100, minibatch 2500/2500, validation error 2.640000 %\n",
      "epoch 101, minibatch 2500/2500, validation error 2.650000 %\n",
      "epoch 102, minibatch 2500/2500, validation error 2.660000 %\n",
      "epoch 103, minibatch 2500/2500, validation error 2.670000 %\n"
     ]
    },
    {
     "ename": "KeyboardInterrupt",
     "evalue": "",
     "output_type": "error",
     "traceback": [
      "\u001b[1;31m---------------------------------------------------------------------------\u001b[0m",
      "\u001b[1;31mKeyboardInterrupt\u001b[0m                         Traceback (most recent call last)",
      "\u001b[1;32m<ipython-input-3-c2cb5352592f>\u001b[0m in \u001b[0;36m<module>\u001b[1;34m()\u001b[0m\n\u001b[0;32m      6\u001b[0m \u001b[1;31m#            batch_size=20, n_hidden=500, verbose=False)\u001b[0m\u001b[1;33m\u001b[0m\u001b[1;33m\u001b[0m\u001b[0m\n\u001b[0;32m      7\u001b[0m \u001b[1;33m\u001b[0m\u001b[0m\n\u001b[1;32m----> 8\u001b[1;33m \u001b[0mval_matrix\u001b[0m\u001b[1;33m,\u001b[0m \u001b[0mtest_matrix\u001b[0m \u001b[1;33m=\u001b[0m \u001b[0mtest_network\u001b[0m\u001b[1;33m(\u001b[0m\u001b[0mn_layers\u001b[0m \u001b[1;33m=\u001b[0m \u001b[1;36m10\u001b[0m\u001b[1;33m,\u001b[0m \u001b[0mactivation\u001b[0m \u001b[1;33m=\u001b[0m \u001b[0mT\u001b[0m\u001b[1;33m.\u001b[0m\u001b[0mnnet\u001b[0m\u001b[1;33m.\u001b[0m\u001b[0mrelu\u001b[0m\u001b[1;33m,\u001b[0m \u001b[0mn_epochs\u001b[0m \u001b[1;33m=\u001b[0m \u001b[1;36m150\u001b[0m\u001b[1;33m,\u001b[0m \u001b[0mn_hidden\u001b[0m\u001b[1;33m=\u001b[0m\u001b[1;36m71\u001b[0m\u001b[1;33m,\u001b[0m \u001b[0mverbose\u001b[0m\u001b[1;33m=\u001b[0m\u001b[0mTrue\u001b[0m\u001b[1;33m)\u001b[0m\u001b[1;33m\u001b[0m\u001b[0m\n\u001b[0m\u001b[0;32m      9\u001b[0m \u001b[1;33m\u001b[0m\u001b[0m\n",
      "\u001b[1;32m/home/ubuntu/project/e4040_project_abcd/src/test_layer.pyc\u001b[0m in \u001b[0;36mtest_network\u001b[1;34m(n_layers, activation, learning_rate, L1_reg, L2_reg, n_epochs, batch_size, n_hidden, verbose)\u001b[0m\n\u001b[0;32m    298\u001b[0m     \u001b[0mstart_time\u001b[0m \u001b[1;33m=\u001b[0m \u001b[0mtimeit\u001b[0m\u001b[1;33m.\u001b[0m\u001b[0mdefault_timer\u001b[0m\u001b[1;33m(\u001b[0m\u001b[1;33m)\u001b[0m\u001b[1;33m\u001b[0m\u001b[0m\n\u001b[0;32m    299\u001b[0m \u001b[1;33m\u001b[0m\u001b[0m\n\u001b[1;32m--> 300\u001b[1;33m     \u001b[0mepoch\u001b[0m \u001b[1;33m=\u001b[0m \u001b[1;36m0\u001b[0m\u001b[1;33m\u001b[0m\u001b[0m\n\u001b[0m\u001b[0;32m    301\u001b[0m     \u001b[0mdone_looping\u001b[0m \u001b[1;33m=\u001b[0m \u001b[0mFalse\u001b[0m\u001b[1;33m\u001b[0m\u001b[0m\n\u001b[0;32m    302\u001b[0m \u001b[1;33m\u001b[0m\u001b[0m\n",
      "\u001b[1;32m/home/ubuntu/miniconda2/envs/theano/lib/python2.7/site-packages/theano/compile/function_module.pyc\u001b[0m in \u001b[0;36m__call__\u001b[1;34m(self, *args, **kwargs)\u001b[0m\n\u001b[0;32m    786\u001b[0m                         s.storage[0] = s.type.filter(\n\u001b[0;32m    787\u001b[0m                             \u001b[0marg\u001b[0m\u001b[1;33m,\u001b[0m \u001b[0mstrict\u001b[0m\u001b[1;33m=\u001b[0m\u001b[0ms\u001b[0m\u001b[1;33m.\u001b[0m\u001b[0mstrict\u001b[0m\u001b[1;33m,\u001b[0m\u001b[1;33m\u001b[0m\u001b[0m\n\u001b[1;32m--> 788\u001b[1;33m                             allow_downcast=s.allow_downcast)\n\u001b[0m\u001b[0;32m    789\u001b[0m \u001b[1;33m\u001b[0m\u001b[0m\n\u001b[0;32m    790\u001b[0m                     \u001b[1;32mexcept\u001b[0m \u001b[0mException\u001b[0m \u001b[1;32mas\u001b[0m \u001b[0me\u001b[0m\u001b[1;33m:\u001b[0m\u001b[1;33m\u001b[0m\u001b[0m\n",
      "\u001b[1;32m/home/ubuntu/miniconda2/envs/theano/lib/python2.7/site-packages/theano/tensor/type.pyc\u001b[0m in \u001b[0;36mfilter\u001b[1;34m(self, data, strict, allow_downcast)\u001b[0m\n\u001b[0;32m    153\u001b[0m                     if TensorType.values_eq(numpy.asarray(data),\n\u001b[0;32m    154\u001b[0m                                             \u001b[0mconverted_data\u001b[0m\u001b[1;33m,\u001b[0m\u001b[1;33m\u001b[0m\u001b[0m\n\u001b[1;32m--> 155\u001b[1;33m                                             force_same_dtype=False):\n\u001b[0m\u001b[0;32m    156\u001b[0m                         \u001b[0mdata\u001b[0m \u001b[1;33m=\u001b[0m \u001b[0mconverted_data\u001b[0m\u001b[1;33m\u001b[0m\u001b[0m\n\u001b[0;32m    157\u001b[0m                     \u001b[1;32melse\u001b[0m\u001b[1;33m:\u001b[0m\u001b[1;33m\u001b[0m\u001b[0m\n",
      "\u001b[1;32m/home/ubuntu/miniconda2/envs/theano/lib/python2.7/site-packages/theano/tensor/type.pyc\u001b[0m in \u001b[0;36mvalues_eq\u001b[1;34m(a, b, force_same_dtype)\u001b[0m\n\u001b[0;32m    307\u001b[0m             \u001b[1;32mreturn\u001b[0m \u001b[0mFalse\u001b[0m\u001b[1;33m\u001b[0m\u001b[0m\n\u001b[0;32m    308\u001b[0m         \u001b[0ma_eq_b\u001b[0m \u001b[1;33m=\u001b[0m \u001b[1;33m(\u001b[0m\u001b[0ma\u001b[0m \u001b[1;33m==\u001b[0m \u001b[0mb\u001b[0m\u001b[1;33m)\u001b[0m\u001b[1;33m\u001b[0m\u001b[0m\n\u001b[1;32m--> 309\u001b[1;33m         \u001b[0mr\u001b[0m \u001b[1;33m=\u001b[0m \u001b[0mnumpy\u001b[0m\u001b[1;33m.\u001b[0m\u001b[0mall\u001b[0m\u001b[1;33m(\u001b[0m\u001b[0ma_eq_b\u001b[0m\u001b[1;33m)\u001b[0m\u001b[1;33m\u001b[0m\u001b[0m\n\u001b[0m\u001b[0;32m    310\u001b[0m         \u001b[1;32mif\u001b[0m \u001b[0mr\u001b[0m\u001b[1;33m:\u001b[0m\u001b[1;33m\u001b[0m\u001b[0m\n\u001b[0;32m    311\u001b[0m             \u001b[1;32mreturn\u001b[0m \u001b[0mTrue\u001b[0m\u001b[1;33m\u001b[0m\u001b[0m\n",
      "\u001b[1;32m/home/ubuntu/miniconda2/envs/theano/lib/python2.7/site-packages/numpy/core/fromnumeric.pyc\u001b[0m in \u001b[0;36mall\u001b[1;34m(a, axis, out, keepdims)\u001b[0m\n\u001b[0;32m   2028\u001b[0m \u001b[1;33m\u001b[0m\u001b[0m\n\u001b[0;32m   2029\u001b[0m     \"\"\"\n\u001b[1;32m-> 2030\u001b[1;33m     \u001b[0marr\u001b[0m \u001b[1;33m=\u001b[0m \u001b[0masanyarray\u001b[0m\u001b[1;33m(\u001b[0m\u001b[0ma\u001b[0m\u001b[1;33m)\u001b[0m\u001b[1;33m\u001b[0m\u001b[0m\n\u001b[0m\u001b[0;32m   2031\u001b[0m \u001b[1;33m\u001b[0m\u001b[0m\n\u001b[0;32m   2032\u001b[0m     \u001b[1;32mtry\u001b[0m\u001b[1;33m:\u001b[0m\u001b[1;33m\u001b[0m\u001b[0m\n",
      "\u001b[1;31mKeyboardInterrupt\u001b[0m: "
     ]
    }
   ],
   "source": [
    "import theano.tensor as T\n",
    "from test_layer import test_network\n",
    "\n",
    "\n",
    "#test_network(n_layers, activation=T.Tanh, learning_rate=0.01, L1_reg=0.00, L2_reg=0.0001, n_epochs=1000,\n",
    "#            batch_size=20, n_hidden=500, verbose=False, Highway=False)\n",
    "\n",
    "val_matrix, test_matrix = test_network(n_layers = 10, activation = T.nnet.relu, n_epochs = 150, n_hidden=71, verbose=True)\n",
    "\n"
   ]
  },
  {
   "cell_type": "code",
   "execution_count": 2,
   "metadata": {
    "collapsed": false
   },
   "outputs": [
    {
     "name": "stdout",
     "output_type": "stream",
     "text": [
      "... building the model\n",
      "... training\n",
      "epoch 1, minibatch 2500/2500, validation error 20.700000 %\n",
      "     epoch 1, minibatch 2500/2500, test error of best model 21.720000 %\n",
      "epoch 2, minibatch 2500/2500, validation error 9.370000 %\n",
      "     epoch 2, minibatch 2500/2500, test error of best model 10.370000 %\n",
      "Optimization complete. Best validation score of 9.370000 % obtained at iteration 5000, with test performance 10.370000 %\n"
     ]
    },
    {
     "name": "stderr",
     "output_type": "stream",
     "text": [
      "The code for file test_layer.pyc ran for 0.53m\n"
     ]
    }
   ],
   "source": [
    "import theano.tensor as T\n",
    "from test_layer import test_network\n",
    "\n",
    "\n",
    "#test_network(n_layers, activation=T.Tanh, learning_rate=0.01, L1_reg=0.00, L2_reg=0.0001, n_epochs=1000,\n",
    "#            batch_size=20, n_hidden=500, verbose=False, Highway=False)\n",
    "\n",
    "val_matrix, test_matrix = test_network(n_layers = 10, n_epochs = 2, n_hidden=50, verbose=True,\n",
    "                                      Highway = True)\n"
   ]
  },
  {
   "cell_type": "code",
   "execution_count": 1,
   "metadata": {
    "collapsed": false
   },
   "outputs": [
    {
     "name": "stdout",
     "output_type": "stream",
     "text": [
      "... building the model\n",
      "... training\n"
     ]
    },
    {
     "name": "stderr",
     "output_type": "stream",
     "text": [
      "Using gpu device 0: GRID K520 (CNMeM is disabled, cuDNN Version is too old. Update to v5, was 3007.)\n"
     ]
    },
    {
     "ename": "ValueError",
     "evalue": "dimension mismatch in args to gemm (20,500)x(20,500)->(20,500)\nApply node that caused the error: GpuDot22(GpuElemwise{Add}[(0, 0)].0, GpuElemwise{Add}[(0, 0)].0)\nToposort index: 72\nInputs types: [CudaNdarrayType(float32, matrix), CudaNdarrayType(float32, matrix)]\nInputs shapes: [(20, 500), (20, 500)]\nInputs strides: [(500, 1), (500, 1)]\nInputs values: ['not shown', 'not shown']\nOutputs clients: [[GpuGemm{inplace}(GpuDot22.0, TensorConstant{1.0}, GpuElemwise{Composite{tanh((i0 + i1))}}[(0, 0)].0, GpuElemwise{sub,no_inplace}.0, TensorConstant{1.0})]]\n\nHINT: Re-running with most Theano optimization disabled could give you a back-trace of when this node was created. This can be done with by setting the Theano flag 'optimizer=fast_compile'. If that does not work, Theano optimizations can be disabled with 'optimizer=None'.\nHINT: Use the Theano flag 'exception_verbosity=high' for a debugprint and storage map footprint of this apply node.",
     "output_type": "error",
     "traceback": [
      "\u001b[1;31m---------------------------------------------------------------------------\u001b[0m",
      "\u001b[1;31mValueError\u001b[0m                                Traceback (most recent call last)",
      "\u001b[1;32m<ipython-input-1-bf8b81e1daf5>\u001b[0m in \u001b[0;36m<module>\u001b[1;34m()\u001b[0m\n\u001b[0;32m      5\u001b[0m \u001b[1;31m#            batch_size=20, n_hidden=500, verbose=False)\u001b[0m\u001b[1;33m\u001b[0m\u001b[1;33m\u001b[0m\u001b[0m\n\u001b[0;32m      6\u001b[0m \u001b[1;33m\u001b[0m\u001b[0m\n\u001b[1;32m----> 7\u001b[1;33m \u001b[0mtest_network\u001b[0m\u001b[1;33m(\u001b[0m\u001b[0mn_layers\u001b[0m \u001b[1;33m=\u001b[0m \u001b[1;36m10\u001b[0m\u001b[1;33m,\u001b[0m \u001b[0mn_epochs\u001b[0m \u001b[1;33m=\u001b[0m \u001b[1;36m400\u001b[0m\u001b[1;33m,\u001b[0m \u001b[0mverbose\u001b[0m\u001b[1;33m=\u001b[0m\u001b[0mTrue\u001b[0m\u001b[1;33m)\u001b[0m\u001b[1;33m\u001b[0m\u001b[0m\n\u001b[0m",
      "\u001b[1;32m/home/ubuntu/project/e4040_project_abcd/src/test_layer.pyc\u001b[0m in \u001b[0;36mtest_network\u001b[1;34m(n_layers, activation, learning_rate, L1_reg, L2_reg, n_epochs, batch_size, n_hidden, verbose)\u001b[0m\n\u001b[0;32m    279\u001b[0m         \u001b[1;32mfor\u001b[0m \u001b[0mminibatch_index\u001b[0m \u001b[1;32min\u001b[0m \u001b[0mrange\u001b[0m\u001b[1;33m(\u001b[0m\u001b[0mn_train_batches\u001b[0m\u001b[1;33m)\u001b[0m\u001b[1;33m:\u001b[0m\u001b[1;33m\u001b[0m\u001b[0m\n\u001b[0;32m    280\u001b[0m \u001b[1;33m\u001b[0m\u001b[0m\n\u001b[1;32m--> 281\u001b[1;33m             \u001b[0mminibatch_avg_cost\u001b[0m \u001b[1;33m=\u001b[0m \u001b[0mtrain_model\u001b[0m\u001b[1;33m(\u001b[0m\u001b[0mminibatch_index\u001b[0m\u001b[1;33m)\u001b[0m\u001b[1;33m\u001b[0m\u001b[0m\n\u001b[0m\u001b[0;32m    282\u001b[0m             \u001b[1;31m# iteration number\u001b[0m\u001b[1;33m\u001b[0m\u001b[1;33m\u001b[0m\u001b[0m\n\u001b[0;32m    283\u001b[0m             \u001b[0miter\u001b[0m \u001b[1;33m=\u001b[0m \u001b[1;33m(\u001b[0m\u001b[0mepoch\u001b[0m \u001b[1;33m-\u001b[0m \u001b[1;36m1\u001b[0m\u001b[1;33m)\u001b[0m \u001b[1;33m*\u001b[0m \u001b[0mn_train_batches\u001b[0m \u001b[1;33m+\u001b[0m \u001b[0mminibatch_index\u001b[0m\u001b[1;33m\u001b[0m\u001b[0m\n",
      "\u001b[1;32m/home/ubuntu/miniconda2/envs/theano/lib/python2.7/site-packages/theano/compile/function_module.pyc\u001b[0m in \u001b[0;36m__call__\u001b[1;34m(self, *args, **kwargs)\u001b[0m\n\u001b[0;32m    877\u001b[0m                     \u001b[0mnode\u001b[0m\u001b[1;33m=\u001b[0m\u001b[0mself\u001b[0m\u001b[1;33m.\u001b[0m\u001b[0mfn\u001b[0m\u001b[1;33m.\u001b[0m\u001b[0mnodes\u001b[0m\u001b[1;33m[\u001b[0m\u001b[0mself\u001b[0m\u001b[1;33m.\u001b[0m\u001b[0mfn\u001b[0m\u001b[1;33m.\u001b[0m\u001b[0mposition_of_error\u001b[0m\u001b[1;33m]\u001b[0m\u001b[1;33m,\u001b[0m\u001b[1;33m\u001b[0m\u001b[0m\n\u001b[0;32m    878\u001b[0m                     \u001b[0mthunk\u001b[0m\u001b[1;33m=\u001b[0m\u001b[0mthunk\u001b[0m\u001b[1;33m,\u001b[0m\u001b[1;33m\u001b[0m\u001b[0m\n\u001b[1;32m--> 879\u001b[1;33m                     storage_map=getattr(self.fn, 'storage_map', None))\n\u001b[0m\u001b[0;32m    880\u001b[0m             \u001b[1;32melse\u001b[0m\u001b[1;33m:\u001b[0m\u001b[1;33m\u001b[0m\u001b[0m\n\u001b[0;32m    881\u001b[0m                 \u001b[1;31m# old-style linkers raise their own exceptions\u001b[0m\u001b[1;33m\u001b[0m\u001b[1;33m\u001b[0m\u001b[0m\n",
      "\u001b[1;32m/home/ubuntu/miniconda2/envs/theano/lib/python2.7/site-packages/theano/gof/link.pyc\u001b[0m in \u001b[0;36mraise_with_op\u001b[1;34m(node, thunk, exc_info, storage_map)\u001b[0m\n\u001b[0;32m    323\u001b[0m         \u001b[1;31m# extra long error message in that case.\u001b[0m\u001b[1;33m\u001b[0m\u001b[1;33m\u001b[0m\u001b[0m\n\u001b[0;32m    324\u001b[0m         \u001b[1;32mpass\u001b[0m\u001b[1;33m\u001b[0m\u001b[0m\n\u001b[1;32m--> 325\u001b[1;33m     \u001b[0mreraise\u001b[0m\u001b[1;33m(\u001b[0m\u001b[0mexc_type\u001b[0m\u001b[1;33m,\u001b[0m \u001b[0mexc_value\u001b[0m\u001b[1;33m,\u001b[0m \u001b[0mexc_trace\u001b[0m\u001b[1;33m)\u001b[0m\u001b[1;33m\u001b[0m\u001b[0m\n\u001b[0m\u001b[0;32m    326\u001b[0m \u001b[1;33m\u001b[0m\u001b[0m\n\u001b[0;32m    327\u001b[0m \u001b[1;33m\u001b[0m\u001b[0m\n",
      "\u001b[1;32m/home/ubuntu/miniconda2/envs/theano/lib/python2.7/site-packages/theano/compile/function_module.pyc\u001b[0m in \u001b[0;36m__call__\u001b[1;34m(self, *args, **kwargs)\u001b[0m\n\u001b[0;32m    864\u001b[0m         \u001b[1;32mtry\u001b[0m\u001b[1;33m:\u001b[0m\u001b[1;33m\u001b[0m\u001b[0m\n\u001b[0;32m    865\u001b[0m             \u001b[0moutputs\u001b[0m \u001b[1;33m=\u001b[0m\u001b[0;31m\\\u001b[0m\u001b[1;33m\u001b[0m\u001b[0m\n\u001b[1;32m--> 866\u001b[1;33m                 \u001b[0mself\u001b[0m\u001b[1;33m.\u001b[0m\u001b[0mfn\u001b[0m\u001b[1;33m(\u001b[0m\u001b[1;33m)\u001b[0m \u001b[1;32mif\u001b[0m \u001b[0moutput_subset\u001b[0m \u001b[1;32mis\u001b[0m \u001b[0mNone\u001b[0m \u001b[1;32melse\u001b[0m\u001b[0;31m\\\u001b[0m\u001b[1;33m\u001b[0m\u001b[0m\n\u001b[0m\u001b[0;32m    867\u001b[0m                 \u001b[0mself\u001b[0m\u001b[1;33m.\u001b[0m\u001b[0mfn\u001b[0m\u001b[1;33m(\u001b[0m\u001b[0moutput_subset\u001b[0m\u001b[1;33m=\u001b[0m\u001b[0moutput_subset\u001b[0m\u001b[1;33m)\u001b[0m\u001b[1;33m\u001b[0m\u001b[0m\n\u001b[0;32m    868\u001b[0m         \u001b[1;32mexcept\u001b[0m \u001b[0mException\u001b[0m\u001b[1;33m:\u001b[0m\u001b[1;33m\u001b[0m\u001b[0m\n",
      "\u001b[1;31mValueError\u001b[0m: dimension mismatch in args to gemm (20,500)x(20,500)->(20,500)\nApply node that caused the error: GpuDot22(GpuElemwise{Add}[(0, 0)].0, GpuElemwise{Add}[(0, 0)].0)\nToposort index: 72\nInputs types: [CudaNdarrayType(float32, matrix), CudaNdarrayType(float32, matrix)]\nInputs shapes: [(20, 500), (20, 500)]\nInputs strides: [(500, 1), (500, 1)]\nInputs values: ['not shown', 'not shown']\nOutputs clients: [[GpuGemm{inplace}(GpuDot22.0, TensorConstant{1.0}, GpuElemwise{Composite{tanh((i0 + i1))}}[(0, 0)].0, GpuElemwise{sub,no_inplace}.0, TensorConstant{1.0})]]\n\nHINT: Re-running with most Theano optimization disabled could give you a back-trace of when this node was created. This can be done with by setting the Theano flag 'optimizer=fast_compile'. If that does not work, Theano optimizations can be disabled with 'optimizer=None'.\nHINT: Use the Theano flag 'exception_verbosity=high' for a debugprint and storage map footprint of this apply node."
     ]
    }
   ],
   "source": [
    "from test_layer import test_network\n",
    "\n",
    "\n",
    "#test_network(n_layers, activation=T.Tanh, learning_rate=0.01, L1_reg=0.00, L2_reg=0.0001, n_epochs=1000,\n",
    "#            batch_size=20, n_hidden=500, verbose=False)\n",
    "\n",
    "test_network(n_layers = 10, n_epochs = 400, verbose=True)"
   ]
  },
  {
   "cell_type": "code",
   "execution_count": null,
   "metadata": {
    "collapsed": true
   },
   "outputs": [],
   "source": []
  }
 ],
 "metadata": {
  "kernelspec": {
   "display_name": "Python 2",
   "language": "python",
   "name": "python2"
  },
  "language_info": {
   "codemirror_mode": {
    "name": "ipython",
    "version": 2
   },
   "file_extension": ".py",
   "mimetype": "text/x-python",
   "name": "python",
   "nbconvert_exporter": "python",
   "pygments_lexer": "ipython2",
   "version": "2.7.11"
  }
 },
 "nbformat": 4,
 "nbformat_minor": 0
}
